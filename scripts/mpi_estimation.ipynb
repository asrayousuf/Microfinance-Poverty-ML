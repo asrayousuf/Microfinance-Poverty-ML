{
 "cells": [
  {
   "cell_type": "code",
   "execution_count": 66,
   "metadata": {},
   "outputs": [],
   "source": [
    "import pandas as pd\n",
    "import pandas_profiling\n",
    "import matplotlib.pyplot as plt\n",
    "import numpy as np\n",
    "import math\n",
    "import plotly.plotly as py\n",
    "import plotly\n",
    "from dateutil import parser\n",
    "\n",
    "from sklearn.model_selection import train_test_split\n",
    "from sklearn.model_selection import cross_validate\n",
    "from sklearn.model_selection import cross_val_predict\n",
    "from sklearn.pipeline import FeatureUnion\n",
    "from sklearn.preprocessing import LabelEncoder\n",
    "from sklearn.preprocessing import OneHotEncoder\n",
    "from sklearn.feature_selection import chi2\n",
    "\n",
    "### Packages for classification ###\n",
    "from sklearn.neighbors import KNeighborsClassifier\n",
    "from sklearn import svm, tree\n",
    "import sklearn.linear_model\n",
    "from sklearn.ensemble import RandomForestRegressor\n",
    "\n",
    "### Packages for metric calculation ###\n",
    "from sklearn.metrics import confusion_matrix, roc_curve, auc, precision_recall_curve\n",
    "import matplotlib.pyplot as plt"
   ]
  },
  {
   "cell_type": "code",
   "execution_count": 67,
   "metadata": {},
   "outputs": [],
   "source": [
    "%matplotlib inline"
   ]
  },
  {
   "cell_type": "markdown",
   "metadata": {},
   "source": [
    "#### Load Datasets "
   ]
  },
  {
   "cell_type": "code",
   "execution_count": 68,
   "metadata": {},
   "outputs": [],
   "source": [
    "loans = pd.read_csv('../data/kiva_loans.csv')\n",
    "kiva_mpi = pd.read_csv('../data/kiva_mpi_region_locations.csv')\n",
    "loan_theme_id = pd.read_csv('../data/loan_theme_ids.csv')\n",
    "loan_theme_region = pd.read_csv('../data/loan_themes_by_region.csv')"
   ]
  },
  {
   "cell_type": "markdown",
   "metadata": {},
   "source": [
    "#### Data Exploration"
   ]
  },
  {
   "cell_type": "markdown",
   "metadata": {},
   "source": [
    "The 'kiva_loans' dataset has details of every loan given by Kiva in the last 2 years. Each loan is identified by an id and contains details like amount of the loan (in USD), purpose which the loan was given, date on which the loan was given out, partner involved, number of lenders etc. The dataset has information on a total of 671205 loans."
   ]
  },
  {
   "cell_type": "code",
   "execution_count": 69,
   "metadata": {},
   "outputs": [
    {
     "name": "stdout",
     "output_type": "stream",
     "text": [
      "(671205, 20)\n"
     ]
    },
    {
     "data": {
      "text/html": [
       "<div>\n",
       "<style scoped>\n",
       "    .dataframe tbody tr th:only-of-type {\n",
       "        vertical-align: middle;\n",
       "    }\n",
       "\n",
       "    .dataframe tbody tr th {\n",
       "        vertical-align: top;\n",
       "    }\n",
       "\n",
       "    .dataframe thead th {\n",
       "        text-align: right;\n",
       "    }\n",
       "</style>\n",
       "<table border=\"1\" class=\"dataframe\">\n",
       "  <thead>\n",
       "    <tr style=\"text-align: right;\">\n",
       "      <th></th>\n",
       "      <th>id</th>\n",
       "      <th>funded_amount</th>\n",
       "      <th>loan_amount</th>\n",
       "      <th>activity</th>\n",
       "      <th>sector</th>\n",
       "      <th>use</th>\n",
       "      <th>country_code</th>\n",
       "      <th>country</th>\n",
       "      <th>region</th>\n",
       "      <th>currency</th>\n",
       "      <th>partner_id</th>\n",
       "      <th>posted_time</th>\n",
       "      <th>disbursed_time</th>\n",
       "      <th>funded_time</th>\n",
       "      <th>term_in_months</th>\n",
       "      <th>lender_count</th>\n",
       "      <th>tags</th>\n",
       "      <th>borrower_genders</th>\n",
       "      <th>repayment_interval</th>\n",
       "      <th>date</th>\n",
       "    </tr>\n",
       "  </thead>\n",
       "  <tbody>\n",
       "    <tr>\n",
       "      <th>0</th>\n",
       "      <td>653051</td>\n",
       "      <td>300.0</td>\n",
       "      <td>300.0</td>\n",
       "      <td>Fruits &amp; Vegetables</td>\n",
       "      <td>Food</td>\n",
       "      <td>To buy seasonal, fresh fruits to sell.</td>\n",
       "      <td>PK</td>\n",
       "      <td>Pakistan</td>\n",
       "      <td>Lahore</td>\n",
       "      <td>PKR</td>\n",
       "      <td>247.0</td>\n",
       "      <td>2014-01-01 06:12:39+00:00</td>\n",
       "      <td>2013-12-17 08:00:00+00:00</td>\n",
       "      <td>2014-01-02 10:06:32+00:00</td>\n",
       "      <td>12.0</td>\n",
       "      <td>12</td>\n",
       "      <td>NaN</td>\n",
       "      <td>female</td>\n",
       "      <td>irregular</td>\n",
       "      <td>2014-01-01</td>\n",
       "    </tr>\n",
       "    <tr>\n",
       "      <th>1</th>\n",
       "      <td>653053</td>\n",
       "      <td>575.0</td>\n",
       "      <td>575.0</td>\n",
       "      <td>Rickshaw</td>\n",
       "      <td>Transportation</td>\n",
       "      <td>to repair and maintain the auto rickshaw used ...</td>\n",
       "      <td>PK</td>\n",
       "      <td>Pakistan</td>\n",
       "      <td>Lahore</td>\n",
       "      <td>PKR</td>\n",
       "      <td>247.0</td>\n",
       "      <td>2014-01-01 06:51:08+00:00</td>\n",
       "      <td>2013-12-17 08:00:00+00:00</td>\n",
       "      <td>2014-01-02 09:17:23+00:00</td>\n",
       "      <td>11.0</td>\n",
       "      <td>14</td>\n",
       "      <td>NaN</td>\n",
       "      <td>female, female</td>\n",
       "      <td>irregular</td>\n",
       "      <td>2014-01-01</td>\n",
       "    </tr>\n",
       "    <tr>\n",
       "      <th>2</th>\n",
       "      <td>653068</td>\n",
       "      <td>150.0</td>\n",
       "      <td>150.0</td>\n",
       "      <td>Transportation</td>\n",
       "      <td>Transportation</td>\n",
       "      <td>To repair their old cycle-van and buy another ...</td>\n",
       "      <td>IN</td>\n",
       "      <td>India</td>\n",
       "      <td>Maynaguri</td>\n",
       "      <td>INR</td>\n",
       "      <td>334.0</td>\n",
       "      <td>2014-01-01 09:58:07+00:00</td>\n",
       "      <td>2013-12-17 08:00:00+00:00</td>\n",
       "      <td>2014-01-01 16:01:36+00:00</td>\n",
       "      <td>43.0</td>\n",
       "      <td>6</td>\n",
       "      <td>user_favorite, user_favorite</td>\n",
       "      <td>female</td>\n",
       "      <td>bullet</td>\n",
       "      <td>2014-01-01</td>\n",
       "    </tr>\n",
       "    <tr>\n",
       "      <th>3</th>\n",
       "      <td>653063</td>\n",
       "      <td>200.0</td>\n",
       "      <td>200.0</td>\n",
       "      <td>Embroidery</td>\n",
       "      <td>Arts</td>\n",
       "      <td>to purchase an embroidery machine and a variet...</td>\n",
       "      <td>PK</td>\n",
       "      <td>Pakistan</td>\n",
       "      <td>Lahore</td>\n",
       "      <td>PKR</td>\n",
       "      <td>247.0</td>\n",
       "      <td>2014-01-01 08:03:11+00:00</td>\n",
       "      <td>2013-12-24 08:00:00+00:00</td>\n",
       "      <td>2014-01-01 13:00:00+00:00</td>\n",
       "      <td>11.0</td>\n",
       "      <td>8</td>\n",
       "      <td>NaN</td>\n",
       "      <td>female</td>\n",
       "      <td>irregular</td>\n",
       "      <td>2014-01-01</td>\n",
       "    </tr>\n",
       "    <tr>\n",
       "      <th>4</th>\n",
       "      <td>653084</td>\n",
       "      <td>400.0</td>\n",
       "      <td>400.0</td>\n",
       "      <td>Milk Sales</td>\n",
       "      <td>Food</td>\n",
       "      <td>to purchase one buffalo.</td>\n",
       "      <td>PK</td>\n",
       "      <td>Pakistan</td>\n",
       "      <td>Abdul Hakeem</td>\n",
       "      <td>PKR</td>\n",
       "      <td>245.0</td>\n",
       "      <td>2014-01-01 11:53:19+00:00</td>\n",
       "      <td>2013-12-17 08:00:00+00:00</td>\n",
       "      <td>2014-01-01 19:18:51+00:00</td>\n",
       "      <td>14.0</td>\n",
       "      <td>16</td>\n",
       "      <td>NaN</td>\n",
       "      <td>female</td>\n",
       "      <td>monthly</td>\n",
       "      <td>2014-01-01</td>\n",
       "    </tr>\n",
       "  </tbody>\n",
       "</table>\n",
       "</div>"
      ],
      "text/plain": [
       "       id  funded_amount  loan_amount             activity          sector  \\\n",
       "0  653051          300.0        300.0  Fruits & Vegetables            Food   \n",
       "1  653053          575.0        575.0             Rickshaw  Transportation   \n",
       "2  653068          150.0        150.0       Transportation  Transportation   \n",
       "3  653063          200.0        200.0           Embroidery            Arts   \n",
       "4  653084          400.0        400.0           Milk Sales            Food   \n",
       "\n",
       "                                                 use country_code   country  \\\n",
       "0            To buy seasonal, fresh fruits to sell.            PK  Pakistan   \n",
       "1  to repair and maintain the auto rickshaw used ...           PK  Pakistan   \n",
       "2  To repair their old cycle-van and buy another ...           IN     India   \n",
       "3  to purchase an embroidery machine and a variet...           PK  Pakistan   \n",
       "4                           to purchase one buffalo.           PK  Pakistan   \n",
       "\n",
       "         region currency  partner_id                posted_time  \\\n",
       "0        Lahore      PKR       247.0  2014-01-01 06:12:39+00:00   \n",
       "1        Lahore      PKR       247.0  2014-01-01 06:51:08+00:00   \n",
       "2     Maynaguri      INR       334.0  2014-01-01 09:58:07+00:00   \n",
       "3        Lahore      PKR       247.0  2014-01-01 08:03:11+00:00   \n",
       "4  Abdul Hakeem      PKR       245.0  2014-01-01 11:53:19+00:00   \n",
       "\n",
       "              disbursed_time                funded_time  term_in_months  \\\n",
       "0  2013-12-17 08:00:00+00:00  2014-01-02 10:06:32+00:00            12.0   \n",
       "1  2013-12-17 08:00:00+00:00  2014-01-02 09:17:23+00:00            11.0   \n",
       "2  2013-12-17 08:00:00+00:00  2014-01-01 16:01:36+00:00            43.0   \n",
       "3  2013-12-24 08:00:00+00:00  2014-01-01 13:00:00+00:00            11.0   \n",
       "4  2013-12-17 08:00:00+00:00  2014-01-01 19:18:51+00:00            14.0   \n",
       "\n",
       "   lender_count                          tags borrower_genders  \\\n",
       "0            12                           NaN           female   \n",
       "1            14                           NaN   female, female   \n",
       "2             6  user_favorite, user_favorite           female   \n",
       "3             8                           NaN           female   \n",
       "4            16                           NaN           female   \n",
       "\n",
       "  repayment_interval        date  \n",
       "0          irregular  2014-01-01  \n",
       "1          irregular  2014-01-01  \n",
       "2             bullet  2014-01-01  \n",
       "3          irregular  2014-01-01  \n",
       "4            monthly  2014-01-01  "
      ]
     },
     "execution_count": 69,
     "metadata": {},
     "output_type": "execute_result"
    }
   ],
   "source": [
    "print(loans.shape)\n",
    "loans.head()"
   ]
  },
  {
   "cell_type": "code",
   "execution_count": 70,
   "metadata": {},
   "outputs": [
    {
     "data": {
      "text/plain": [
       "<matplotlib.axes._subplots.AxesSubplot at 0x1a3a692a90>"
      ]
     },
     "execution_count": 70,
     "metadata": {},
     "output_type": "execute_result"
    },
    {
     "data": {
      "image/png": "[encoded data removed]",
      "text/plain": [
       "<Figure size 432x288 with 1 Axes>"
      ]
     },
     "metadata": {
      "needs_background": "light"
     },
     "output_type": "display_data"
    }
   ],
   "source": [
    "country_dist = loans.country.value_counts()\n",
    "country_dist.nlargest(30).plot.bar(title=\"Top 30 country by count of loans given\", x=\"Country\", y=\"Count of Loans\")\n"
   ]
  },
  {
   "cell_type": "code",
   "execution_count": 71,
   "metadata": {},
   "outputs": [
    {
     "data": {
      "text/plain": [
       "Text(0.5, 0, 'Loan Amount in USD')"
      ]
     },
     "execution_count": 71,
     "metadata": {},
     "output_type": "execute_result"
    },
    {
     "data": {
      "image/png": "[encoded data removed]",
      "text/plain": [
       "<Figure size 432x288 with 1 Axes>"
      ]
     },
     "metadata": {
      "needs_background": "light"
     },
     "output_type": "display_data"
    }
   ],
   "source": [
    "loans[loans.funded_amount < 5000].hist(column='funded_amount')\n",
    "plt.title(\"Histogram of loan amounts for loans less than 5000\")\n",
    "plt.xlabel(\"Loan Amount in USD\")\n"
   ]
  },
  {
   "cell_type": "code",
   "execution_count": 72,
   "metadata": {},
   "outputs": [
    {
     "data": {
      "text/plain": [
       "monthly      342717\n",
       "irregular    257158\n",
       "bullet        70728\n",
       "weekly          602\n",
       "Name: repayment_interval, dtype: int64"
      ]
     },
     "execution_count": 72,
     "metadata": {},
     "output_type": "execute_result"
    }
   ],
   "source": [
    "loans.repayment_interval.value_counts()#.plot.bar(title=\"Repayment Interval\")"
   ]
  },
  {
   "cell_type": "code",
   "execution_count": 73,
   "metadata": {},
   "outputs": [
    {
     "data": {
      "text/plain": [
       "(8479, 20)"
      ]
     },
     "execution_count": 73,
     "metadata": {},
     "output_type": "execute_result"
    }
   ],
   "source": [
    "loans[loans.funded_amount > 5000].shape"
   ]
  },
  {
   "cell_type": "code",
   "execution_count": 74,
   "metadata": {},
   "outputs": [
    {
     "data": {
      "text/plain": [
       "<matplotlib.axes._subplots.AxesSubplot at 0x1a39fb2e48>"
      ]
     },
     "execution_count": 74,
     "metadata": {},
     "output_type": "execute_result"
    },
    {
     "data": {
      "image/png": "[encoded data removed]",
      "text/plain": [
       "<Figure size 432x288 with 1 Axes>"
      ]
     },
     "metadata": {
      "needs_background": "light"
     },
     "output_type": "display_data"
    }
   ],
   "source": [
    "sector_dist = loans.sector.value_counts()\n",
    "sector_dist.nlargest(30).plot.bar(title=\"Top 30 Sectors by count of loans given\")\n"
   ]
  },
  {
   "cell_type": "code",
   "execution_count": 75,
   "metadata": {},
   "outputs": [],
   "source": [
    "loans['posted_time'] = pd.to_datetime(loans['posted_time'])\n",
    "loans['disbursed_time'] = pd.to_datetime(loans['disbursed_time'])\n",
    "loans['funded_time'] = pd.to_datetime(loans['funded_time'])\n"
   ]
  },
  {
   "cell_type": "code",
   "execution_count": 76,
   "metadata": {},
   "outputs": [],
   "source": [
    "loans.borrower_genders = loans.borrower_genders.str.split().str[0].str.replace(\",\", \"\")"
   ]
  },
  {
   "cell_type": "code",
   "execution_count": 77,
   "metadata": {},
   "outputs": [
    {
     "data": {
      "text/plain": [
       "<matplotlib.axes._subplots.AxesSubplot at 0x1a14994c18>"
      ]
     },
     "execution_count": 77,
     "metadata": {},
     "output_type": "execute_result"
    },
    {
     "data": {
      "image/png": "[encoded data removed]",
      "text/plain": [
       "<Figure size 432x288 with 1 Axes>"
      ]
     },
     "metadata": {
      "needs_background": "light"
     },
     "output_type": "display_data"
    }
   ],
   "source": [
    "time_dist = loans['funded_time'].dt.year.fillna(0).astype(int).value_counts()\n",
    "time_dist.drop(labels=[0]).sort_index().plot.bar( title=\"Loan Distribution by Years\")\n",
    "\n"
   ]
  },
  {
   "cell_type": "code",
   "execution_count": 78,
   "metadata": {},
   "outputs": [
    {
     "data": {
      "text/plain": [
       "country      sector      \n",
       "Afghanistan  Arts              2\n",
       "Albania      Agriculture     719\n",
       "             Arts              5\n",
       "             Clothing         87\n",
       "             Construction     30\n",
       "Name: id, dtype: int64"
      ]
     },
     "execution_count": 78,
     "metadata": {},
     "output_type": "execute_result"
    }
   ],
   "source": [
    "## Sector distribution by countries\n",
    "loans.groupby(['country', 'sector']).count()['id'].head()"
   ]
  },
  {
   "cell_type": "markdown",
   "metadata": {},
   "source": [
    "#### kiva_mpi_region_locations"
   ]
  },
  {
   "cell_type": "markdown",
   "metadata": {},
   "source": [
    "The 'kiva_mpi_region_locations' dataset is the ground-truth dataset which contains information about the MPI (Multi-dimensional poverty index) of the respective regions under study.Each region is defined by its name, country and geo-coordinates. The dataset reports the MPI of 2772 regions spread across 6 of the world-regions"
   ]
  },
  {
   "cell_type": "code",
   "execution_count": 79,
   "metadata": {},
   "outputs": [
    {
     "name": "stdout",
     "output_type": "stream",
     "text": [
      "(2772, 9)\n"
     ]
    },
    {
     "data": {
      "text/html": [
       "<div>\n",
       "<style scoped>\n",
       "    .dataframe tbody tr th:only-of-type {\n",
       "        vertical-align: middle;\n",
       "    }\n",
       "\n",
       "    .dataframe tbody tr th {\n",
       "        vertical-align: top;\n",
       "    }\n",
       "\n",
       "    .dataframe thead th {\n",
       "        text-align: right;\n",
       "    }\n",
       "</style>\n",
       "<table border=\"1\" class=\"dataframe\">\n",
       "  <thead>\n",
       "    <tr style=\"text-align: right;\">\n",
       "      <th></th>\n",
       "      <th>LocationName</th>\n",
       "      <th>ISO</th>\n",
       "      <th>country</th>\n",
       "      <th>region</th>\n",
       "      <th>world_region</th>\n",
       "      <th>MPI</th>\n",
       "      <th>geo</th>\n",
       "      <th>lat</th>\n",
       "      <th>lon</th>\n",
       "    </tr>\n",
       "  </thead>\n",
       "  <tbody>\n",
       "    <tr>\n",
       "      <th>0</th>\n",
       "      <td>Badakhshan, Afghanistan</td>\n",
       "      <td>AFG</td>\n",
       "      <td>Afghanistan</td>\n",
       "      <td>Badakhshan</td>\n",
       "      <td>South Asia</td>\n",
       "      <td>0.387</td>\n",
       "      <td>(36.7347725, 70.81199529999999)</td>\n",
       "      <td>36.734772</td>\n",
       "      <td>70.811995</td>\n",
       "    </tr>\n",
       "    <tr>\n",
       "      <th>1</th>\n",
       "      <td>Badghis, Afghanistan</td>\n",
       "      <td>AFG</td>\n",
       "      <td>Afghanistan</td>\n",
       "      <td>Badghis</td>\n",
       "      <td>South Asia</td>\n",
       "      <td>0.466</td>\n",
       "      <td>(35.1671339, 63.7695384)</td>\n",
       "      <td>35.167134</td>\n",
       "      <td>63.769538</td>\n",
       "    </tr>\n",
       "    <tr>\n",
       "      <th>2</th>\n",
       "      <td>Baghlan, Afghanistan</td>\n",
       "      <td>AFG</td>\n",
       "      <td>Afghanistan</td>\n",
       "      <td>Baghlan</td>\n",
       "      <td>South Asia</td>\n",
       "      <td>0.300</td>\n",
       "      <td>(35.8042947, 69.2877535)</td>\n",
       "      <td>35.804295</td>\n",
       "      <td>69.287754</td>\n",
       "    </tr>\n",
       "    <tr>\n",
       "      <th>3</th>\n",
       "      <td>Balkh, Afghanistan</td>\n",
       "      <td>AFG</td>\n",
       "      <td>Afghanistan</td>\n",
       "      <td>Balkh</td>\n",
       "      <td>South Asia</td>\n",
       "      <td>0.301</td>\n",
       "      <td>(36.7550603, 66.8975372)</td>\n",
       "      <td>36.755060</td>\n",
       "      <td>66.897537</td>\n",
       "    </tr>\n",
       "    <tr>\n",
       "      <th>4</th>\n",
       "      <td>Bamyan, Afghanistan</td>\n",
       "      <td>AFG</td>\n",
       "      <td>Afghanistan</td>\n",
       "      <td>Bamyan</td>\n",
       "      <td>South Asia</td>\n",
       "      <td>0.325</td>\n",
       "      <td>(34.8100067, 67.8212104)</td>\n",
       "      <td>34.810007</td>\n",
       "      <td>67.821210</td>\n",
       "    </tr>\n",
       "  </tbody>\n",
       "</table>\n",
       "</div>"
      ],
      "text/plain": [
       "              LocationName  ISO      country      region world_region    MPI  \\\n",
       "0  Badakhshan, Afghanistan  AFG  Afghanistan  Badakhshan   South Asia  0.387   \n",
       "1     Badghis, Afghanistan  AFG  Afghanistan     Badghis   South Asia  0.466   \n",
       "2     Baghlan, Afghanistan  AFG  Afghanistan     Baghlan   South Asia  0.300   \n",
       "3       Balkh, Afghanistan  AFG  Afghanistan       Balkh   South Asia  0.301   \n",
       "4      Bamyan, Afghanistan  AFG  Afghanistan      Bamyan   South Asia  0.325   \n",
       "\n",
       "                               geo        lat        lon  \n",
       "0  (36.7347725, 70.81199529999999)  36.734772  70.811995  \n",
       "1         (35.1671339, 63.7695384)  35.167134  63.769538  \n",
       "2         (35.8042947, 69.2877535)  35.804295  69.287754  \n",
       "3         (36.7550603, 66.8975372)  36.755060  66.897537  \n",
       "4         (34.8100067, 67.8212104)  34.810007  67.821210  "
      ]
     },
     "execution_count": 79,
     "metadata": {},
     "output_type": "execute_result"
    }
   ],
   "source": [
    "print(kiva_mpi.shape)\n",
    "kiva_mpi.head()"
   ]
  },
  {
   "cell_type": "code",
   "execution_count": 80,
   "metadata": {},
   "outputs": [
    {
     "data": {
      "text/plain": [
       "12695"
      ]
     },
     "execution_count": 80,
     "metadata": {},
     "output_type": "execute_result"
    }
   ],
   "source": [
    "len(loans.region.value_counts())"
   ]
  },
  {
   "cell_type": "code",
   "execution_count": 81,
   "metadata": {},
   "outputs": [
    {
     "data": {
      "text/plain": [
       "<matplotlib.axes._subplots.AxesSubplot at 0x1a177c7c88>"
      ]
     },
     "execution_count": 81,
     "metadata": {},
     "output_type": "execute_result"
    },
    {
     "data": {
      "image/png": "[encoded data removed]",
      "text/plain": [
       "<Figure size 432x288 with 1 Axes>"
      ]
     },
     "metadata": {
      "needs_background": "light"
     },
     "output_type": "display_data"
    }
   ],
   "source": [
    "kiva_mpi.world_region.value_counts().plot.bar()"
   ]
  },
  {
   "cell_type": "markdown",
   "metadata": {},
   "source": [
    "#### loan_theme_ids"
   ]
  },
  {
   "cell_type": "markdown",
   "metadata": {},
   "source": [
    "The 'loan_theme_ids' dataset records the general theme type of each loan (identified by its ID) and its respective partner ID. The dataset has 779092 records. "
   ]
  },
  {
   "cell_type": "code",
   "execution_count": 82,
   "metadata": {},
   "outputs": [
    {
     "name": "stdout",
     "output_type": "stream",
     "text": [
      "(779092, 4)\n"
     ]
    },
    {
     "data": {
      "text/html": [
       "<div>\n",
       "<style scoped>\n",
       "    .dataframe tbody tr th:only-of-type {\n",
       "        vertical-align: middle;\n",
       "    }\n",
       "\n",
       "    .dataframe tbody tr th {\n",
       "        vertical-align: top;\n",
       "    }\n",
       "\n",
       "    .dataframe thead th {\n",
       "        text-align: right;\n",
       "    }\n",
       "</style>\n",
       "<table border=\"1\" class=\"dataframe\">\n",
       "  <thead>\n",
       "    <tr style=\"text-align: right;\">\n",
       "      <th></th>\n",
       "      <th>id</th>\n",
       "      <th>Loan Theme ID</th>\n",
       "      <th>Loan Theme Type</th>\n",
       "      <th>Partner ID</th>\n",
       "    </tr>\n",
       "  </thead>\n",
       "  <tbody>\n",
       "    <tr>\n",
       "      <th>0</th>\n",
       "      <td>638631</td>\n",
       "      <td>a1050000000skGl</td>\n",
       "      <td>General</td>\n",
       "      <td>151.0</td>\n",
       "    </tr>\n",
       "    <tr>\n",
       "      <th>1</th>\n",
       "      <td>640322</td>\n",
       "      <td>a1050000000skGl</td>\n",
       "      <td>General</td>\n",
       "      <td>151.0</td>\n",
       "    </tr>\n",
       "    <tr>\n",
       "      <th>2</th>\n",
       "      <td>641006</td>\n",
       "      <td>a1050000002X1ij</td>\n",
       "      <td>Higher Education</td>\n",
       "      <td>160.0</td>\n",
       "    </tr>\n",
       "    <tr>\n",
       "      <th>3</th>\n",
       "      <td>641019</td>\n",
       "      <td>a1050000002X1ij</td>\n",
       "      <td>Higher Education</td>\n",
       "      <td>160.0</td>\n",
       "    </tr>\n",
       "    <tr>\n",
       "      <th>4</th>\n",
       "      <td>641594</td>\n",
       "      <td>a1050000002VbsW</td>\n",
       "      <td>Subsistence Agriculture</td>\n",
       "      <td>336.0</td>\n",
       "    </tr>\n",
       "  </tbody>\n",
       "</table>\n",
       "</div>"
      ],
      "text/plain": [
       "       id    Loan Theme ID          Loan Theme Type  Partner ID\n",
       "0  638631  a1050000000skGl                  General       151.0\n",
       "1  640322  a1050000000skGl                  General       151.0\n",
       "2  641006  a1050000002X1ij         Higher Education       160.0\n",
       "3  641019  a1050000002X1ij         Higher Education       160.0\n",
       "4  641594  a1050000002VbsW  Subsistence Agriculture       336.0"
      ]
     },
     "execution_count": 82,
     "metadata": {},
     "output_type": "execute_result"
    }
   ],
   "source": [
    "print(loan_theme_id.shape)\n",
    "loan_theme_id.head()\n"
   ]
  },
  {
   "cell_type": "markdown",
   "metadata": {},
   "source": [
    "#### Loan_themes_by_region"
   ]
  },
  {
   "cell_type": "markdown",
   "metadata": {},
   "source": [
    "The 'loan_themes_by_region' dataset has details on the partner associated with the loans in the previous datasets. For every partner, it contains details on every theme type, the amount lent by them and details of the area from which these partners operate. The dataset contains 15,736 records on 302 partners"
   ]
  },
  {
   "cell_type": "code",
   "execution_count": 83,
   "metadata": {},
   "outputs": [
    {
     "name": "stdout",
     "output_type": "stream",
     "text": [
      "Shape: (15736, 21)\n",
      "Number of Partners:  302\n"
     ]
    },
    {
     "data": {
      "text/html": [
       "<div>\n",
       "<style scoped>\n",
       "    .dataframe tbody tr th:only-of-type {\n",
       "        vertical-align: middle;\n",
       "    }\n",
       "\n",
       "    .dataframe tbody tr th {\n",
       "        vertical-align: top;\n",
       "    }\n",
       "\n",
       "    .dataframe thead th {\n",
       "        text-align: right;\n",
       "    }\n",
       "</style>\n",
       "<table border=\"1\" class=\"dataframe\">\n",
       "  <thead>\n",
       "    <tr style=\"text-align: right;\">\n",
       "      <th></th>\n",
       "      <th>Partner ID</th>\n",
       "      <th>Field Partner Name</th>\n",
       "      <th>sector</th>\n",
       "      <th>Loan Theme ID</th>\n",
       "      <th>Loan Theme Type</th>\n",
       "      <th>country</th>\n",
       "      <th>forkiva</th>\n",
       "      <th>region</th>\n",
       "      <th>geocode_old</th>\n",
       "      <th>ISO</th>\n",
       "      <th>...</th>\n",
       "      <th>amount</th>\n",
       "      <th>LocationName</th>\n",
       "      <th>geocode</th>\n",
       "      <th>names</th>\n",
       "      <th>geo</th>\n",
       "      <th>lat</th>\n",
       "      <th>lon</th>\n",
       "      <th>mpi_region</th>\n",
       "      <th>mpi_geo</th>\n",
       "      <th>rural_pct</th>\n",
       "    </tr>\n",
       "  </thead>\n",
       "  <tbody>\n",
       "    <tr>\n",
       "      <th>0</th>\n",
       "      <td>9</td>\n",
       "      <td>KREDIT Microfinance Institution</td>\n",
       "      <td>General Financial Inclusion</td>\n",
       "      <td>a1050000000slfi</td>\n",
       "      <td>Higher Education</td>\n",
       "      <td>Cambodia</td>\n",
       "      <td>No</td>\n",
       "      <td>Banteay Meanchey</td>\n",
       "      <td>(13.75, 103.0)</td>\n",
       "      <td>KHM</td>\n",
       "      <td>...</td>\n",
       "      <td>450</td>\n",
       "      <td>Banteay Meanchey, Cambodia</td>\n",
       "      <td>[(13.6672596, 102.8975098)]</td>\n",
       "      <td>Banteay Meanchey Province; Cambodia</td>\n",
       "      <td>(13.6672596, 102.8975098)</td>\n",
       "      <td>13.667260</td>\n",
       "      <td>102.897510</td>\n",
       "      <td>Banteay Mean Chey, Cambodia</td>\n",
       "      <td>(13.6672596, 102.8975098)</td>\n",
       "      <td>90.0</td>\n",
       "    </tr>\n",
       "    <tr>\n",
       "      <th>1</th>\n",
       "      <td>9</td>\n",
       "      <td>KREDIT Microfinance Institution</td>\n",
       "      <td>General Financial Inclusion</td>\n",
       "      <td>a10500000068jPe</td>\n",
       "      <td>Vulnerable Populations</td>\n",
       "      <td>Cambodia</td>\n",
       "      <td>No</td>\n",
       "      <td>Battambang Province</td>\n",
       "      <td>NaN</td>\n",
       "      <td>KHM</td>\n",
       "      <td>...</td>\n",
       "      <td>20275</td>\n",
       "      <td>Battambang Province, Cambodia</td>\n",
       "      <td>[(13.0286971, 102.989615)]</td>\n",
       "      <td>Battambang Province; Cambodia</td>\n",
       "      <td>(13.0286971, 102.989615)</td>\n",
       "      <td>13.028697</td>\n",
       "      <td>102.989615</td>\n",
       "      <td>Banteay Mean Chey, Cambodia</td>\n",
       "      <td>(13.6672596, 102.8975098)</td>\n",
       "      <td>90.0</td>\n",
       "    </tr>\n",
       "    <tr>\n",
       "      <th>2</th>\n",
       "      <td>9</td>\n",
       "      <td>KREDIT Microfinance Institution</td>\n",
       "      <td>General Financial Inclusion</td>\n",
       "      <td>a1050000000slfi</td>\n",
       "      <td>Higher Education</td>\n",
       "      <td>Cambodia</td>\n",
       "      <td>No</td>\n",
       "      <td>Battambang Province</td>\n",
       "      <td>NaN</td>\n",
       "      <td>KHM</td>\n",
       "      <td>...</td>\n",
       "      <td>9150</td>\n",
       "      <td>Battambang Province, Cambodia</td>\n",
       "      <td>[(13.0286971, 102.989615)]</td>\n",
       "      <td>Battambang Province; Cambodia</td>\n",
       "      <td>(13.0286971, 102.989615)</td>\n",
       "      <td>13.028697</td>\n",
       "      <td>102.989615</td>\n",
       "      <td>Banteay Mean Chey, Cambodia</td>\n",
       "      <td>(13.6672596, 102.8975098)</td>\n",
       "      <td>90.0</td>\n",
       "    </tr>\n",
       "    <tr>\n",
       "      <th>3</th>\n",
       "      <td>9</td>\n",
       "      <td>KREDIT Microfinance Institution</td>\n",
       "      <td>General Financial Inclusion</td>\n",
       "      <td>a10500000068jPe</td>\n",
       "      <td>Vulnerable Populations</td>\n",
       "      <td>Cambodia</td>\n",
       "      <td>No</td>\n",
       "      <td>Kampong Cham Province</td>\n",
       "      <td>(12.0, 105.5)</td>\n",
       "      <td>KHM</td>\n",
       "      <td>...</td>\n",
       "      <td>604950</td>\n",
       "      <td>Kampong Cham Province, Cambodia</td>\n",
       "      <td>[(12.0982918, 105.3131185)]</td>\n",
       "      <td>Kampong Cham Province; Cambodia</td>\n",
       "      <td>(12.0982918, 105.3131185)</td>\n",
       "      <td>12.098292</td>\n",
       "      <td>105.313119</td>\n",
       "      <td>Kampong Cham, Cambodia</td>\n",
       "      <td>(11.9924294, 105.4645408)</td>\n",
       "      <td>90.0</td>\n",
       "    </tr>\n",
       "    <tr>\n",
       "      <th>4</th>\n",
       "      <td>9</td>\n",
       "      <td>KREDIT Microfinance Institution</td>\n",
       "      <td>General Financial Inclusion</td>\n",
       "      <td>a1050000002X1Uu</td>\n",
       "      <td>Sanitation</td>\n",
       "      <td>Cambodia</td>\n",
       "      <td>No</td>\n",
       "      <td>Kampong Cham Province</td>\n",
       "      <td>(12.0, 105.5)</td>\n",
       "      <td>KHM</td>\n",
       "      <td>...</td>\n",
       "      <td>275</td>\n",
       "      <td>Kampong Cham Province, Cambodia</td>\n",
       "      <td>[(12.0982918, 105.3131185)]</td>\n",
       "      <td>Kampong Cham Province; Cambodia</td>\n",
       "      <td>(12.0982918, 105.3131185)</td>\n",
       "      <td>12.098292</td>\n",
       "      <td>105.313119</td>\n",
       "      <td>Kampong Cham, Cambodia</td>\n",
       "      <td>(11.9924294, 105.4645408)</td>\n",
       "      <td>90.0</td>\n",
       "    </tr>\n",
       "  </tbody>\n",
       "</table>\n",
       "<p>5 rows × 21 columns</p>\n",
       "</div>"
      ],
      "text/plain": [
       "   Partner ID               Field Partner Name                       sector  \\\n",
       "0           9  KREDIT Microfinance Institution  General Financial Inclusion   \n",
       "1           9  KREDIT Microfinance Institution  General Financial Inclusion   \n",
       "2           9  KREDIT Microfinance Institution  General Financial Inclusion   \n",
       "3           9  KREDIT Microfinance Institution  General Financial Inclusion   \n",
       "4           9  KREDIT Microfinance Institution  General Financial Inclusion   \n",
       "\n",
       "     Loan Theme ID         Loan Theme Type   country forkiva  \\\n",
       "0  a1050000000slfi        Higher Education  Cambodia      No   \n",
       "1  a10500000068jPe  Vulnerable Populations  Cambodia      No   \n",
       "2  a1050000000slfi        Higher Education  Cambodia      No   \n",
       "3  a10500000068jPe  Vulnerable Populations  Cambodia      No   \n",
       "4  a1050000002X1Uu              Sanitation  Cambodia      No   \n",
       "\n",
       "                  region     geocode_old  ISO    ...     amount  \\\n",
       "0       Banteay Meanchey  (13.75, 103.0)  KHM    ...        450   \n",
       "1    Battambang Province             NaN  KHM    ...      20275   \n",
       "2    Battambang Province             NaN  KHM    ...       9150   \n",
       "3  Kampong Cham Province   (12.0, 105.5)  KHM    ...     604950   \n",
       "4  Kampong Cham Province   (12.0, 105.5)  KHM    ...        275   \n",
       "\n",
       "                      LocationName                      geocode  \\\n",
       "0       Banteay Meanchey, Cambodia  [(13.6672596, 102.8975098)]   \n",
       "1    Battambang Province, Cambodia   [(13.0286971, 102.989615)]   \n",
       "2    Battambang Province, Cambodia   [(13.0286971, 102.989615)]   \n",
       "3  Kampong Cham Province, Cambodia  [(12.0982918, 105.3131185)]   \n",
       "4  Kampong Cham Province, Cambodia  [(12.0982918, 105.3131185)]   \n",
       "\n",
       "                                 names                        geo        lat  \\\n",
       "0  Banteay Meanchey Province; Cambodia  (13.6672596, 102.8975098)  13.667260   \n",
       "1        Battambang Province; Cambodia   (13.0286971, 102.989615)  13.028697   \n",
       "2        Battambang Province; Cambodia   (13.0286971, 102.989615)  13.028697   \n",
       "3      Kampong Cham Province; Cambodia  (12.0982918, 105.3131185)  12.098292   \n",
       "4      Kampong Cham Province; Cambodia  (12.0982918, 105.3131185)  12.098292   \n",
       "\n",
       "          lon                   mpi_region                    mpi_geo  \\\n",
       "0  102.897510  Banteay Mean Chey, Cambodia  (13.6672596, 102.8975098)   \n",
       "1  102.989615  Banteay Mean Chey, Cambodia  (13.6672596, 102.8975098)   \n",
       "2  102.989615  Banteay Mean Chey, Cambodia  (13.6672596, 102.8975098)   \n",
       "3  105.313119       Kampong Cham, Cambodia  (11.9924294, 105.4645408)   \n",
       "4  105.313119       Kampong Cham, Cambodia  (11.9924294, 105.4645408)   \n",
       "\n",
       "  rural_pct  \n",
       "0      90.0  \n",
       "1      90.0  \n",
       "2      90.0  \n",
       "3      90.0  \n",
       "4      90.0  \n",
       "\n",
       "[5 rows x 21 columns]"
      ]
     },
     "execution_count": 83,
     "metadata": {},
     "output_type": "execute_result"
    }
   ],
   "source": [
    "print(\"Shape:\", loan_theme_region.shape)\n",
    "print(\"Number of Partners: \", len(loan_theme_region['Partner ID'].unique()))\n",
    "loan_theme_region.head()"
   ]
  },
  {
   "cell_type": "code",
   "execution_count": 84,
   "metadata": {},
   "outputs": [
    {
     "data": {
      "text/plain": [
       "Index(['Partner ID', 'Field Partner Name', 'sector', 'Loan Theme ID',\n",
       "       'Loan Theme Type', 'country', 'forkiva', 'region', 'geocode_old', 'ISO',\n",
       "       'number', 'amount', 'LocationName', 'geocode', 'names', 'geo', 'lat',\n",
       "       'lon', 'mpi_region', 'mpi_geo', 'rural_pct'],\n",
       "      dtype='object')"
      ]
     },
     "execution_count": 84,
     "metadata": {},
     "output_type": "execute_result"
    }
   ],
   "source": [
    "loan_theme_region.columns"
   ]
  },
  {
   "cell_type": "code",
   "execution_count": 85,
   "metadata": {},
   "outputs": [],
   "source": [
    "loan_theme_region.drop(['Field Partner Name', \n",
    "       'Loan Theme Type', 'country', 'forkiva', 'amount', 'LocationName', 'geocode', 'names', 'geo', 'lat',\n",
    "       'lon', 'mpi_region', 'mpi_geo', 'rural_pct'], axis=1, inplace=True)"
   ]
  },
  {
   "cell_type": "code",
   "execution_count": 86,
   "metadata": {},
   "outputs": [],
   "source": [
    "tmp1 = pd.merge(loans, kiva_mpi, on=['region', 'country'], how='left')\n",
    "tmp2 = pd.merge(tmp1, loan_theme_id, on=['id'], how='left')\n"
   ]
  },
  {
   "cell_type": "code",
   "execution_count": 87,
   "metadata": {},
   "outputs": [
    {
     "data": {
      "text/plain": [
       "(671205, 27)"
      ]
     },
     "execution_count": 87,
     "metadata": {},
     "output_type": "execute_result"
    }
   ],
   "source": [
    "tmp1.shape"
   ]
  },
  {
   "cell_type": "code",
   "execution_count": 88,
   "metadata": {},
   "outputs": [],
   "source": [
    "tmp2.dropna(subset=['MPI'], inplace=True)"
   ]
  },
  {
   "cell_type": "code",
   "execution_count": 89,
   "metadata": {},
   "outputs": [
    {
     "data": {
      "text/plain": [
       "(50955, 30)"
      ]
     },
     "execution_count": 89,
     "metadata": {},
     "output_type": "execute_result"
    }
   ],
   "source": [
    "tmp2.shape"
   ]
  },
  {
   "cell_type": "code",
   "execution_count": 90,
   "metadata": {},
   "outputs": [
    {
     "data": {
      "text/plain": [
       "Index(['id', 'funded_amount', 'loan_amount', 'activity', 'sector', 'use',\n",
       "       'country_code', 'country', 'region', 'currency', 'partner_id',\n",
       "       'posted_time', 'disbursed_time', 'funded_time', 'term_in_months',\n",
       "       'lender_count', 'tags', 'borrower_genders', 'repayment_interval',\n",
       "       'date', 'LocationName', 'ISO', 'world_region', 'MPI', 'geo', 'lat',\n",
       "       'lon', 'Loan Theme ID', 'Loan Theme Type', 'Partner ID'],\n",
       "      dtype='object')"
      ]
     },
     "execution_count": 90,
     "metadata": {},
     "output_type": "execute_result"
    }
   ],
   "source": [
    "tmp2.columns"
   ]
  },
  {
   "cell_type": "code",
   "execution_count": 91,
   "metadata": {},
   "outputs": [],
   "source": [
    "data = pd.merge(tmp2, loan_theme_region, on=['Partner ID', 'Loan Theme ID', 'region', 'sector', 'ISO'], how='left')"
   ]
  },
  {
   "cell_type": "code",
   "execution_count": 92,
   "metadata": {},
   "outputs": [
    {
     "data": {
      "text/plain": [
       "(50955, 32)"
      ]
     },
     "execution_count": 92,
     "metadata": {},
     "output_type": "execute_result"
    }
   ],
   "source": [
    "data.shape"
   ]
  },
  {
   "cell_type": "code",
   "execution_count": 113,
   "metadata": {},
   "outputs": [
    {
     "data": {
      "text/plain": [
       "<Figure size 2880x2880 with 0 Axes>"
      ]
     },
     "execution_count": 113,
     "metadata": {},
     "output_type": "execute_result"
    },
    {
     "data": {
      "image/png": "[encoded data removed]",
      "text/plain": [
       "<Figure size 432x288 with 4 Axes>"
      ]
     },
     "metadata": {
      "needs_background": "light"
     },
     "output_type": "display_data"
    },
    {
     "data": {
      "text/plain": [
       "<Figure size 2880x2880 with 0 Axes>"
      ]
     },
     "metadata": {},
     "output_type": "display_data"
    }
   ],
   "source": [
    "from wordcloud import WordCloud\n",
    "from nltk.corpus import stopwords \n",
    "\n",
    "STOPWORDS = set(stopwords.words('english')) \n",
    "\n",
    "# Plot word clouds\n",
    "plt.subplot(221).set_title(\"Sector: Health\")\n",
    "wc = WordCloud(background_color='white', stopwords=STOPWORDS,max_words=20).generate(\" \".join(loans.loc[loans['sector'] == 'Health'].use.astype(str)))\n",
    "plt.imshow(wc)\n",
    "plt.axis('off')\n",
    "\n",
    "plt.subplot(222).set_title(\"Sector: Food\")\n",
    "wc = WordCloud(background_color='white', stopwords=STOPWORDS,max_words=20).generate(\" \".join(loans.loc[loans['sector'] == 'Food'].use.astype(str)))\n",
    "plt.imshow(wc)\n",
    "plt.axis('off')\n",
    "\n",
    "plt.subplot(223).set_title(\"Sector: Agriculture\")\n",
    "wc = WordCloud(background_color='white', stopwords=STOPWORDS,max_words=20).generate(\" \".join(loans.loc[loans['sector'] == 'Agriculture'].use.astype(str)))\n",
    "plt.imshow(wc)\n",
    "plt.axis('off')\n",
    "\n",
    "plt.subplot(224).set_title(\"Sector: Personal Use\")\n",
    "wc = WordCloud(background_color='white', stopwords=STOPWORDS,max_words=20).generate(\" \".join(loans.loc[loans['sector'] == 'Personal Use'].use.astype(str)))\n",
    "plt.imshow(wc)\n",
    "plt.axis('off')\n",
    "\n",
    "plt.suptitle(\"Loan Use\")\n",
    "plt.tight_layout(pad=0.4, w_pad=0.0, h_pad=2.0, rect=[0, 0, 0.95, 0.95])\n",
    "plt.figure(figsize=(40,40))"
   ]
  },
  {
   "cell_type": "code",
   "execution_count": 31,
   "metadata": {},
   "outputs": [
    {
     "data": {
      "text/plain": [
       "Index(['id', 'funded_amount', 'loan_amount', 'activity', 'sector', 'use',\n",
       "       'country_code', 'country', 'region', 'currency', 'partner_id',\n",
       "       'posted_time', 'disbursed_time', 'funded_time', 'term_in_months',\n",
       "       'lender_count', 'tags', 'borrower_genders', 'repayment_interval',\n",
       "       'date', 'LocationName', 'ISO', 'world_region', 'MPI', 'geo', 'lat',\n",
       "       'lon', 'Loan Theme ID', 'Loan Theme Type', 'Partner ID', 'geocode_old',\n",
       "       'number'],\n",
       "      dtype='object')"
      ]
     },
     "execution_count": 31,
     "metadata": {},
     "output_type": "execute_result"
    }
   ],
   "source": [
    "data.columns"
   ]
  },
  {
   "cell_type": "code",
   "execution_count": 32,
   "metadata": {},
   "outputs": [
    {
     "data": {
      "text/plain": [
       "female    513643\n",
       "male      153341\n",
       "Name: borrower_genders, dtype: int64"
      ]
     },
     "execution_count": 32,
     "metadata": {},
     "output_type": "execute_result"
    }
   ],
   "source": [
    "loans.borrower_genders.value_counts()"
   ]
  },
  {
   "cell_type": "code",
   "execution_count": 33,
   "metadata": {},
   "outputs": [
    {
     "data": {
      "text/plain": [
       "False    50955\n",
       "Name: MPI, dtype: int64"
      ]
     },
     "execution_count": 33,
     "metadata": {},
     "output_type": "execute_result"
    }
   ],
   "source": [
    "data.MPI.isna().value_counts()"
   ]
  },
  {
   "cell_type": "code",
   "execution_count": 34,
   "metadata": {},
   "outputs": [
    {
     "data": {
      "text/html": [
       "<div>\n",
       "<style scoped>\n",
       "    .dataframe tbody tr th:only-of-type {\n",
       "        vertical-align: middle;\n",
       "    }\n",
       "\n",
       "    .dataframe tbody tr th {\n",
       "        vertical-align: top;\n",
       "    }\n",
       "\n",
       "    .dataframe thead th {\n",
       "        text-align: right;\n",
       "    }\n",
       "</style>\n",
       "<table border=\"1\" class=\"dataframe\">\n",
       "  <thead>\n",
       "    <tr style=\"text-align: right;\">\n",
       "      <th></th>\n",
       "      <th>id</th>\n",
       "      <th>funded_amount</th>\n",
       "      <th>loan_amount</th>\n",
       "      <th>activity</th>\n",
       "      <th>sector</th>\n",
       "      <th>use</th>\n",
       "      <th>country_code</th>\n",
       "      <th>country</th>\n",
       "      <th>region</th>\n",
       "      <th>currency</th>\n",
       "      <th>...</th>\n",
       "      <th>world_region</th>\n",
       "      <th>MPI</th>\n",
       "      <th>geo</th>\n",
       "      <th>lat</th>\n",
       "      <th>lon</th>\n",
       "      <th>Loan Theme ID</th>\n",
       "      <th>Loan Theme Type</th>\n",
       "      <th>Partner ID</th>\n",
       "      <th>geocode_old</th>\n",
       "      <th>number</th>\n",
       "    </tr>\n",
       "  </thead>\n",
       "  <tbody>\n",
       "    <tr>\n",
       "      <th>0</th>\n",
       "      <td>653359</td>\n",
       "      <td>600.0</td>\n",
       "      <td>600.0</td>\n",
       "      <td>Machinery Rental</td>\n",
       "      <td>Services</td>\n",
       "      <td>to invest in working capital and to maintain g...</td>\n",
       "      <td>NI</td>\n",
       "      <td>Nicaragua</td>\n",
       "      <td>Leon</td>\n",
       "      <td>NIO</td>\n",
       "      <td>...</td>\n",
       "      <td>Latin America and Caribbean</td>\n",
       "      <td>0.031</td>\n",
       "      <td>(28.3998551, 83.6895693)</td>\n",
       "      <td>28.399855</td>\n",
       "      <td>83.689569</td>\n",
       "      <td>a1050000000wf00</td>\n",
       "      <td>General</td>\n",
       "      <td>96.0</td>\n",
       "      <td>NaN</td>\n",
       "      <td>NaN</td>\n",
       "    </tr>\n",
       "    <tr>\n",
       "      <th>1</th>\n",
       "      <td>653432</td>\n",
       "      <td>550.0</td>\n",
       "      <td>550.0</td>\n",
       "      <td>Personal Expenses</td>\n",
       "      <td>Personal Use</td>\n",
       "      <td>to buy a cradle and household items for his yo...</td>\n",
       "      <td>PE</td>\n",
       "      <td>Peru</td>\n",
       "      <td>Ica</td>\n",
       "      <td>PEN</td>\n",
       "      <td>...</td>\n",
       "      <td>Latin America and Caribbean</td>\n",
       "      <td>0.009</td>\n",
       "      <td>(-14.07546, -75.7341811)</td>\n",
       "      <td>-14.075460</td>\n",
       "      <td>-75.734181</td>\n",
       "      <td>a1050000000wf0k</td>\n",
       "      <td>General</td>\n",
       "      <td>139.0</td>\n",
       "      <td>NaN</td>\n",
       "      <td>NaN</td>\n",
       "    </tr>\n",
       "    <tr>\n",
       "      <th>2</th>\n",
       "      <td>653410</td>\n",
       "      <td>1075.0</td>\n",
       "      <td>1075.0</td>\n",
       "      <td>Transportation</td>\n",
       "      <td>Transportation</td>\n",
       "      <td>to pay for general maintenance on his vehicle.</td>\n",
       "      <td>PE</td>\n",
       "      <td>Peru</td>\n",
       "      <td>Ica</td>\n",
       "      <td>PEN</td>\n",
       "      <td>...</td>\n",
       "      <td>Latin America and Caribbean</td>\n",
       "      <td>0.009</td>\n",
       "      <td>(-14.07546, -75.7341811)</td>\n",
       "      <td>-14.075460</td>\n",
       "      <td>-75.734181</td>\n",
       "      <td>a1050000000wf0k</td>\n",
       "      <td>General</td>\n",
       "      <td>139.0</td>\n",
       "      <td>NaN</td>\n",
       "      <td>NaN</td>\n",
       "    </tr>\n",
       "    <tr>\n",
       "      <th>3</th>\n",
       "      <td>653373</td>\n",
       "      <td>1000.0</td>\n",
       "      <td>1000.0</td>\n",
       "      <td>Grocery Store</td>\n",
       "      <td>Food</td>\n",
       "      <td>to invest in working capital and to provide hi...</td>\n",
       "      <td>NI</td>\n",
       "      <td>Nicaragua</td>\n",
       "      <td>Leon</td>\n",
       "      <td>NIO</td>\n",
       "      <td>...</td>\n",
       "      <td>Latin America and Caribbean</td>\n",
       "      <td>0.031</td>\n",
       "      <td>(28.3998551, 83.6895693)</td>\n",
       "      <td>28.399855</td>\n",
       "      <td>83.689569</td>\n",
       "      <td>a1050000000wf00</td>\n",
       "      <td>General</td>\n",
       "      <td>96.0</td>\n",
       "      <td>NaN</td>\n",
       "      <td>NaN</td>\n",
       "    </tr>\n",
       "    <tr>\n",
       "      <th>4</th>\n",
       "      <td>653166</td>\n",
       "      <td>600.0</td>\n",
       "      <td>600.0</td>\n",
       "      <td>Cattle</td>\n",
       "      <td>Agriculture</td>\n",
       "      <td>To buy a calf to raise.</td>\n",
       "      <td>KH</td>\n",
       "      <td>Cambodia</td>\n",
       "      <td>Phnom Penh</td>\n",
       "      <td>USD</td>\n",
       "      <td>...</td>\n",
       "      <td>East Asia and the Pacific</td>\n",
       "      <td>0.026</td>\n",
       "      <td>(11.5448729, 104.8921668)</td>\n",
       "      <td>11.544873</td>\n",
       "      <td>104.892167</td>\n",
       "      <td>a1050000000wezV</td>\n",
       "      <td>General</td>\n",
       "      <td>61.0</td>\n",
       "      <td>NaN</td>\n",
       "      <td>NaN</td>\n",
       "    </tr>\n",
       "  </tbody>\n",
       "</table>\n",
       "<p>5 rows × 32 columns</p>\n",
       "</div>"
      ],
      "text/plain": [
       "       id  funded_amount  loan_amount           activity          sector  \\\n",
       "0  653359          600.0        600.0   Machinery Rental        Services   \n",
       "1  653432          550.0        550.0  Personal Expenses    Personal Use   \n",
       "2  653410         1075.0       1075.0     Transportation  Transportation   \n",
       "3  653373         1000.0       1000.0      Grocery Store            Food   \n",
       "4  653166          600.0        600.0             Cattle     Agriculture   \n",
       "\n",
       "                                                 use country_code    country  \\\n",
       "0  to invest in working capital and to maintain g...           NI  Nicaragua   \n",
       "1  to buy a cradle and household items for his yo...           PE       Peru   \n",
       "2     to pay for general maintenance on his vehicle.           PE       Peru   \n",
       "3  to invest in working capital and to provide hi...           NI  Nicaragua   \n",
       "4                           To buy a calf to raise.            KH   Cambodia   \n",
       "\n",
       "       region currency  ...                   world_region    MPI  \\\n",
       "0        Leon      NIO  ...    Latin America and Caribbean  0.031   \n",
       "1         Ica      PEN  ...    Latin America and Caribbean  0.009   \n",
       "2         Ica      PEN  ...    Latin America and Caribbean  0.009   \n",
       "3        Leon      NIO  ...    Latin America and Caribbean  0.031   \n",
       "4  Phnom Penh      USD  ...      East Asia and the Pacific  0.026   \n",
       "\n",
       "                         geo        lat         lon    Loan Theme ID  \\\n",
       "0   (28.3998551, 83.6895693)  28.399855   83.689569  a1050000000wf00   \n",
       "1   (-14.07546, -75.7341811) -14.075460  -75.734181  a1050000000wf0k   \n",
       "2   (-14.07546, -75.7341811) -14.075460  -75.734181  a1050000000wf0k   \n",
       "3   (28.3998551, 83.6895693)  28.399855   83.689569  a1050000000wf00   \n",
       "4  (11.5448729, 104.8921668)  11.544873  104.892167  a1050000000wezV   \n",
       "\n",
       "  Loan Theme Type Partner ID geocode_old number  \n",
       "0         General       96.0         NaN    NaN  \n",
       "1         General      139.0         NaN    NaN  \n",
       "2         General      139.0         NaN    NaN  \n",
       "3         General       96.0         NaN    NaN  \n",
       "4         General       61.0         NaN    NaN  \n",
       "\n",
       "[5 rows x 32 columns]"
      ]
     },
     "execution_count": 34,
     "metadata": {},
     "output_type": "execute_result"
    }
   ],
   "source": [
    "data.head()"
   ]
  },
  {
   "cell_type": "markdown",
   "metadata": {},
   "source": [
    "#### Feature Engineering"
   ]
  },
  {
   "cell_type": "code",
   "execution_count": 99,
   "metadata": {},
   "outputs": [],
   "source": [
    "data['world_region'] = pd.Series(LabelEncoder().fit_transform(data.world_region.astype('str')))\n",
    "data['repayment_interval'] = pd.Series(LabelEncoder().fit_transform(data.repayment_interval.astype('str')))\n",
    "data['country_code'] = pd.Series(LabelEncoder().fit_transform(data.country_code.astype('str')))\n",
    "data['activity'] = pd.Series(LabelEncoder().fit_transform(data.activity.astype('str')))\n",
    "data['sector'] = pd.Series(LabelEncoder().fit_transform(data.sector.astype('str')))\n",
    "#data['region'] = pd.Series(LabelEncoder().fit_transform(data.region.astype('str')))\n",
    "data['borrower_genders'] = pd.Series(LabelEncoder().fit_transform(data.borrower_genders.astype('str')))\n",
    "data['currency'] = pd.Series(LabelEncoder().fit_transform(data.currency.astype('str')))\n",
    "data['Loan Theme Type'] = pd.Series(LabelEncoder().fit_transform(data['Loan Theme Type'].astype('str')))"
   ]
  },
  {
   "cell_type": "code",
   "execution_count": 100,
   "metadata": {},
   "outputs": [
    {
     "data": {
      "image/png": "[encoded data removed]",
      "text/plain": [
       "<Figure size 1440x1080 with 16 Axes>"
      ]
     },
     "metadata": {
      "needs_background": "light"
     },
     "output_type": "display_data"
    }
   ],
   "source": [
    "analysis = data.drop(columns=['geo', 'id', 'lat', 'lon', 'LocationName', 'Partner ID', 'funded_amount', 'ISO', 'date', 'tags', 'posted_time', 'disbursed_time', 'funded_time', 'geocode_old', 'Loan Theme ID', 'number'], axis=1)\n",
    "analysis.hist(bins=50, figsize=(20,15))\n",
    "plt.savefig(\"attribute_histogram_plots\")\n",
    "plt.show()"
   ]
  },
  {
   "cell_type": "code",
   "execution_count": 101,
   "metadata": {},
   "outputs": [],
   "source": [
    "data = pd.get_dummies(data, columns=['world_region', 'repayment_interval', 'country', 'activity', 'sector', \n",
    "                                     'borrower_genders', 'Loan Theme Type'])\n"
   ]
  },
  {
   "cell_type": "code",
   "execution_count": 102,
   "metadata": {},
   "outputs": [
    {
     "data": {
      "text/plain": [
       "Index(['id', 'funded_amount', 'loan_amount', 'use', 'country_code', 'region',\n",
       "       'currency', 'partner_id', 'posted_time', 'disbursed_time',\n",
       "       ...\n",
       "       'Loan Theme Type_59', 'Loan Theme Type_60', 'Loan Theme Type_61',\n",
       "       'Loan Theme Type_62', 'Loan Theme Type_63', 'Loan Theme Type_64',\n",
       "       'Loan Theme Type_65', 'Loan Theme Type_66', 'Loan Theme Type_67',\n",
       "       'Loan Theme Type_68'],\n",
       "      dtype='object', length=300)"
      ]
     },
     "execution_count": 102,
     "metadata": {},
     "output_type": "execute_result"
    }
   ],
   "source": [
    "data.columns"
   ]
  },
  {
   "cell_type": "code",
   "execution_count": 103,
   "metadata": {},
   "outputs": [],
   "source": [
    "data['year']=pd.to_datetime(data['date'],format='%Y-%m-%d').dt.year\n",
    "data['month']=pd.to_datetime(data['date'],format='%Y-%m-%d').dt.month"
   ]
  },
  {
   "cell_type": "code",
   "execution_count": 104,
   "metadata": {},
   "outputs": [
    {
     "data": {
      "text/plain": [
       "2014    15323\n",
       "2016    13857\n",
       "2015    13212\n",
       "2017     8563\n",
       "Name: year, dtype: int64"
      ]
     },
     "execution_count": 104,
     "metadata": {},
     "output_type": "execute_result"
    }
   ],
   "source": [
    "data['year'].value_counts()"
   ]
  },
  {
   "cell_type": "code",
   "execution_count": 105,
   "metadata": {},
   "outputs": [],
   "source": [
    "data['time_taken'] = (data['funded_time'] - data['posted_time']).dt.days\n",
    "data.drop(columns=['geo', 'id', 'lat', 'lon', 'country_code', 'currency',\n",
    "                   'region', 'Partner ID', 'use', 'funded_amount', 'LocationName', 'ISO', \n",
    "                   'date', 'tags', 'posted_time', 'disbursed_time', 'funded_time', 'geocode_old', 'Loan Theme ID', 'number'], axis=1, inplace=True)\n",
    "\n",
    "data.dropna(inplace=True)"
   ]
  },
  {
   "cell_type": "code",
   "execution_count": 106,
   "metadata": {},
   "outputs": [],
   "source": [
    "X = data.drop(columns=['MPI'])"
   ]
  },
  {
   "cell_type": "code",
   "execution_count": 107,
   "metadata": {},
   "outputs": [],
   "source": [
    "y = data['MPI'].astype('float')"
   ]
  },
  {
   "cell_type": "markdown",
   "metadata": {},
   "source": [
    "#### Modelling & Evaluation"
   ]
  },
  {
   "cell_type": "code",
   "execution_count": 108,
   "metadata": {},
   "outputs": [],
   "source": [
    "X_train, X_test, y_train, y_test = train_test_split(X, y, test_size=0.33, random_state=42)"
   ]
  },
  {
   "cell_type": "code",
   "execution_count": 109,
   "metadata": {},
   "outputs": [
    {
     "data": {
      "text/plain": [
       "0.9038215497139392"
      ]
     },
     "execution_count": 109,
     "metadata": {},
     "output_type": "execute_result"
    }
   ],
   "source": [
    "regr = RandomForestRegressor(max_depth=8, random_state=0, n_estimators=80)\n",
    "regr.fit(X_train, y_train)\n",
    "regr.score(X_test, y_test)"
   ]
  },
  {
   "cell_type": "code",
   "execution_count": 110,
   "metadata": {},
   "outputs": [
    {
     "name": "stdout",
     "output_type": "stream",
     "text": [
      "Random Forest RMSE: 0.0370\n"
     ]
    }
   ],
   "source": [
    "from sklearn.metrics import mean_absolute_error\n",
    "from sklearn.metrics import mean_squared_error\n",
    "y_pred = regr.predict(X_test)\n",
    "rf_mse = mean_squared_error(y_pred, y_test)\n",
    "rf_rmse = np.sqrt(rf_mse)\n",
    "print('Random Forest RMSE: %.4f' % rf_rmse)"
   ]
  },
  {
   "cell_type": "code",
   "execution_count": 111,
   "metadata": {},
   "outputs": [
    {
     "data": {
      "image/png": "[encoded data removed]",
      "text/plain": [
       "<Figure size 432x288 with 1 Axes>"
      ]
     },
     "metadata": {
      "needs_background": "light"
     },
     "output_type": "display_data"
    }
   ],
   "source": [
    "r_squared = regr.score(X_test, y_test)\n",
    "plt.scatter(y_test,y_pred)\n",
    "plt.xlabel('Actual values')\n",
    "plt.ylabel('Predicted values')\n",
    "\n",
    "plt.plot(np.unique(y_test), np.poly1d(np.polyfit(y_test, y_pred, 1))(np.unique(y_test)))\n",
    "\n",
    "plt.text(0.2,0.5, 'R-squared = %0.2f' % r_squared)\n",
    "plt.show()"
   ]
  },
  {
   "cell_type": "code",
   "execution_count": 63,
   "metadata": {},
   "outputs": [
    {
     "name": "stdout",
     "output_type": "stream",
     "text": [
      "country_Nigeria-55.851%\n",
      "world_region_Latin America and Caribbean-11.480%\n",
      "country_Sierra Leone-10.608%\n",
      "country_Timor-Leste-5.404%\n",
      "partner_id-3.891%\n",
      "country_Mali-3.622%\n",
      "world_region_Sub-Saharan Africa-2.820%\n",
      "country_Malawi-1.937%\n",
      "country_Guatemala-1.139%\n",
      "loan_amount-0.698%\n",
      "term_in_months-0.639%\n",
      "country_Nicaragua-0.385%\n",
      "country_Haiti-0.275%\n",
      "time_taken-0.247%\n",
      "Loan Theme Type_Coffee Production-0.212%\n",
      "month-0.137%\n",
      "country_Honduras-0.084%\n",
      "year-0.083%\n",
      "Loan Theme Type_Finance to Cooperative-0.082%\n",
      "lender_count-0.080%\n",
      "sector_Food-0.054%\n",
      "activity_Retail-0.043%\n",
      "repayment_interval_monthly-0.026%\n",
      "borrower_genders_female-0.018%\n",
      "repayment_interval_irregular-0.018%\n",
      "activity_Beverages-0.015%\n",
      "country_Mongolia-0.015%\n",
      "activity_Fish Selling-0.013%\n",
      "activity_Textiles-0.011%\n",
      "activity_Fruits & Vegetables-0.008%\n",
      "borrower_genders_male-0.006%\n",
      "activity_Phone Accessories-0.006%\n",
      "activity_Clothing-0.006%\n",
      "sector_Construction-0.006%\n",
      "activity_General Store-0.005%\n",
      "activity_Food Stall-0.005%\n",
      "activity_Quarrying-0.005%\n",
      "activity_Beauty Salon-0.004%\n",
      "sector_Agriculture-0.004%\n",
      "activity_Used Clothing-0.004%\n",
      "activity_Clothing Sales-0.004%\n",
      "activity_Flowers-0.004%\n",
      "sector_Clothing-0.003%\n",
      "activity_Pigs-0.003%\n",
      "activity_Restaurant-0.003%\n",
      "activity_Food Production/Sales-0.003%\n",
      "activity_Shoe Sales-0.003%\n",
      "activity_Fishing-0.003%\n",
      "activity_Perfumes-0.002%\n",
      "activity_Cloth & Dressmaking Supplies-0.002%\n",
      "activity_Farming-0.002%\n",
      "activity_Fuel/Firewood-0.002%\n",
      "sector_Housing-0.002%\n",
      "sector_Retail-0.002%\n",
      "activity_Home Products Sales-0.002%\n",
      "activity_Food Market-0.001%\n",
      "Loan Theme Type_Water and Sanitation-0.001%\n",
      "sector_Education-0.001%\n",
      "activity_Personal Housing Expenses-0.001%\n",
      "Loan Theme Type_Youth Entrepreneurship-0.001%\n",
      "activity_Electrical Goods-0.001%\n",
      "activity_Food-0.001%\n",
      "sector_Arts-0.001%\n",
      "activity_Grocery Store-0.001%\n",
      "activity_Jewelry-0.001%\n",
      "Loan Theme Type_Startup (Women)-0.001%\n",
      "activity_Weaving-0.000%\n",
      "activity_Agriculture-0.000%\n",
      "sector_Manufacturing-0.000%\n",
      "activity_Crafts-0.000%\n",
      "Loan Theme Type_Higher Education-0.000%\n",
      "activity_Higher education costs-0.000%\n",
      "Loan Theme Type_Green-0.000%\n",
      "activity_Animal Sales-0.000%\n",
      "activity_Cattle-0.000%\n",
      "activity_Cosmetics Sales-0.000%\n",
      "world_region_Europe and Central Asia-0.000%\n",
      "activity_Barber Shop-0.000%\n",
      "activity_Electronics Repair-0.000%\n",
      "country_Tajikistan-0.000%\n",
      "Loan Theme Type_General-0.000%\n",
      "activity_Embroidery-0.000%\n",
      "activity_Manufacturing-0.000%\n",
      "activity_Arts-0.000%\n",
      "activity_Goods Distribution-0.000%\n",
      "activity_Services-0.000%\n",
      "activity_Sewing-0.000%\n",
      "Loan Theme Type_Silvopasture-0.000%\n",
      "activity_Livestock-0.000%\n",
      "sector_Health-0.000%\n",
      "activity_Pharmacy-0.000%\n",
      "activity_Personal Expenses-0.000%\n",
      "activity_Butcher Shop-0.000%\n",
      "sector_Services-0.000%\n",
      "activity_Construction Supplies-0.000%\n",
      "sector_Personal Use-0.000%\n",
      "repayment_interval_bullet-0.000%\n",
      "Loan Theme Type_Subsistence Agriculture-0.000%\n",
      "activity_Knitting-0.000%\n",
      "country_El Salvador-0.000%\n",
      "activity_Used Shoes-0.000%\n",
      "activity_Cafe-0.000%\n",
      "activity_Plastics Sales-0.000%\n",
      "activity_Personal Products Sales-0.000%\n",
      "activity_Tailoring-0.000%\n",
      "country_Peru-0.000%\n",
      "activity_Electronics Sales-0.000%\n",
      "activity_Mobile Phones-0.000%\n",
      "activity_Farm Supplies-0.000%\n",
      "activity_Primary/secondary school costs-0.000%\n",
      "activity_Motorcycle Transport-0.000%\n",
      "sector_Transportation-0.000%\n",
      "activity_Poultry-0.000%\n",
      "activity_Education provider-0.000%\n",
      "activity_Printing-0.000%\n",
      "Loan Theme Type_Youth-0.000%\n",
      "activity_Dairy-0.000%\n",
      "activity_Furniture Making-0.000%\n",
      "activity_Funerals-0.000%\n",
      "world_region_Arab States-0.000%\n",
      "activity_Florist-0.000%\n",
      "world_region_East Asia and the Pacific-0.000%\n",
      "activity_Decorations Sales-0.000%\n",
      "world_region_South Asia-0.000%\n",
      "activity_Entertainment-0.000%\n",
      "activity_Energy-0.000%\n",
      "activity_Dental-0.000%\n",
      "activity_Electrician-0.000%\n",
      "activity_Film-0.000%\n",
      "Loan Theme Type_Value Chain-0.000%\n",
      "activity_Consumer Goods-0.000%\n",
      "activity_Aquaculture-0.000%\n",
      "country_Indonesia-0.000%\n",
      "country_Kenya-0.000%\n",
      "country_Lesotho-0.000%\n",
      "Loan Theme Type_Water-0.000%\n",
      "activity_Beekeeping-0.000%\n",
      "Loan Theme Type_Vulnerable Women-0.000%\n",
      "country_Mozambique-0.000%\n",
      "activity_Bakery-0.000%\n",
      "activity_Auto Repair-0.000%\n",
      "activity_Air Conditioning-0.000%\n",
      "Loan Theme Type_Women micro-business-0.000%\n",
      "Loan Theme Type_Vulnerable Populations-0.000%\n",
      "country_Zimbabwe-0.000%\n",
      "country_Zambia-0.000%\n",
      "country_Yemen-0.000%\n",
      "country_Uganda-0.000%\n",
      "Loan Theme Type_Unbanked-0.000%\n",
      "country_Suriname-0.000%\n",
      "Loan Theme Type_Underserved-0.000%\n",
      "country_Pakistan-0.000%\n",
      "activity_Bicycle Repair-0.000%\n",
      "activity_Blacksmith-0.000%\n",
      "activity_Bookstore-0.000%\n",
      "activity_Bricks-0.000%\n",
      "activity_Construction-0.000%\n",
      "activity_Computers-0.000%\n",
      "activity_Computer-0.000%\n",
      "country_Bhutan-0.000%\n",
      "activity_Cobbler-0.000%\n",
      "country_Brazil-0.000%\n",
      "country_Cambodia-0.000%\n",
      "activity_Cleaning Services-0.000%\n",
      "activity_Child Care-0.000%\n",
      "activity_Cheese Making-0.000%\n",
      "activity_Charcoal Sales-0.000%\n",
      "activity_Cereals-0.000%\n",
      "activity_Cement-0.000%\n",
      "activity_Celebrations-0.000%\n",
      "Loan Theme Type_Women Entrepreneurs-0.000%\n",
      "activity_Catering-0.000%\n",
      "activity_Carpentry-0.000%\n",
      "activity_Call Center-0.000%\n",
      "activity_Games-0.000%\n",
      "country_Cameroon-0.000%\n",
      "Loan Theme Type_Tool Box Loan-0.000%\n",
      "activity_Hardware-0.000%\n",
      "activity_Wholesale-0.000%\n",
      "Loan Theme Type_Higher Education (Women)-0.000%\n",
      "Loan Theme Type_Health-0.000%\n",
      "Loan Theme Type_General (Women)-0.000%\n",
      "Loan Theme Type_Full Tuition-0.000%\n",
      "Loan Theme Type_Franchise Package-0.000%\n",
      "Loan Theme Type_Field Renewal-0.000%\n",
      "Loan Theme Type_Extreme Poverty-0.000%\n",
      "Loan Theme Type_Equipment Purchase-0.000%\n",
      "Loan Theme Type_Education Technology-0.000%\n",
      "Loan Theme Type_Education - Kenya-0.000%\n",
      "Loan Theme Type_Education - Cambodia-0.000%\n",
      "Loan Theme Type_Distributor Finance-0.000%\n",
      "Loan Theme Type_Conflict Zone-0.000%\n",
      "Loan Theme Type_Clean Energy-0.000%\n",
      "Loan Theme Type_Clean Cookstove-0.000%\n",
      "Loan Theme Type_Cacao Production-0.000%\n",
      "Loan Theme Type_Cacao Field Renewal-0.000%\n",
      "Loan Theme Type_Bridge/Income Smoothing-0.000%\n",
      "Loan Theme Type_Biodigester-0.000%\n",
      "Loan Theme Type_Artisan-0.000%\n",
      "Loan Theme Type_Agriculture-0.000%\n",
      "Loan Theme Type_Agricultural Infrastructure-0.000%\n",
      "sector_Wholesale-0.000%\n",
      "Loan Theme Type_Housing Improvement-0.000%\n",
      "Loan Theme Type_Human Capital Contracts-0.000%\n",
      "Loan Theme Type_Hydrologic-0.000%\n",
      "Loan Theme Type_Safe Water System for Institution-0.000%\n",
      "Loan Theme Type_Startup (Youth)-0.000%\n",
      "Loan Theme Type_Startup-0.000%\n",
      "Loan Theme Type_Solar water pump-0.000%\n",
      "Loan Theme Type_Solar refrigerator-0.000%\n",
      "Loan Theme Type_Solar Home Systems-0.000%\n",
      "Loan Theme Type_Small Business Investment Loan-0.000%\n",
      "Loan Theme Type_Single mothers entrepreneurs-0.000%\n",
      "Loan Theme Type_Single mothers-0.000%\n",
      "Loan Theme Type_Senior Citizens-0.000%\n",
      "Loan Theme Type_Sanitation-0.000%\n",
      "Loan Theme Type_SME-0.000%\n",
      "Loan Theme Type_Livestock and Fishing-0.000%\n",
      "Loan Theme Type_Rural Inclusion-0.000%\n",
      "Loan Theme Type_Retailer Finance-0.000%\n",
      "Loan Theme Type_Qard Hassan-0.000%\n",
      "Loan Theme Type_Organic Agriculture-0.000%\n",
      "Loan Theme Type_Murabaha-0.000%\n",
      "Loan Theme Type_Mobile transactions - electronic float advance-0.000%\n",
      "Loan Theme Type_Mobile transactions - capital growth loan.-0.000%\n",
      "Loan Theme Type_Mobile Transactions-0.000%\n",
      "Loan Theme Type_Microfranchise-0.000%\n",
      "Loan Theme Type_Micro-enterprise-0.000%\n",
      "sector_Entertainment-0.000%\n",
      "activity_Well digging-0.000%\n",
      "activity_Health-0.000%\n",
      "activity_Wedding Expenses-0.000%\n",
      "activity_Phone Repair-0.000%\n",
      "activity_Personal Medical Expenses-0.000%\n",
      "activity_Party Supplies-0.000%\n",
      "activity_Paper Sales-0.000%\n",
      "activity_Office Supplies-0.000%\n",
      "activity_Natural Medicines-0.000%\n",
      "activity_Musical Performance-0.000%\n",
      "activity_Musical Instruments-0.000%\n",
      "Loan Theme Type_Sustainable Solar Service Package-0.000%\n",
      "activity_Movie Tapes & DVDs-0.000%\n",
      "activity_Motorcycle Repair-0.000%\n",
      "activity_Mobile Transactions-0.000%\n",
      "activity_Milk Sales-0.000%\n",
      "activity_Metal Shop-0.000%\n",
      "activity_Medical Clinic-0.000%\n",
      "activity_Machinery Rental-0.000%\n",
      "activity_Liquor Store / Off-License-0.000%\n",
      "activity_Laundry-0.000%\n",
      "activity_Land Rental-0.000%\n",
      "activity_Internet Cafe-0.000%\n",
      "activity_Hotel-0.000%\n",
      "activity_Home Energy-0.000%\n",
      "activity_Home Appliances-0.000%\n",
      "activity_Phone Use Sales-0.000%\n",
      "activity_Photography-0.000%\n",
      "activity_Property-0.000%\n",
      "activity_Timber Sales-0.000%\n",
      "activity_Water Distribution-0.000%\n",
      "activity_Waste Management-0.000%\n",
      "activity_Veterinary Sales-0.000%\n",
      "activity_Vehicle Repairs-0.000%\n",
      "activity_Vehicle-0.000%\n",
      "activity_Utilities-0.000%\n",
      "activity_Upholstery-0.000%\n",
      "activity_Traveling Sales-0.000%\n",
      "activity_Transportation-0.000%\n",
      "activity_Tourism-0.000%\n",
      "activity_Technology-0.000%\n",
      "activity_Pub-0.000%\n",
      "activity_Taxi-0.000%\n",
      "activity_Sporting Good Sales-0.000%\n",
      "activity_Spare Parts-0.000%\n",
      "activity_Souvenir Sales-0.000%\n",
      "activity_Secretarial Services-0.000%\n",
      "activity_Rickshaw-0.000%\n",
      "activity_Renewable Energy Products-0.000%\n",
      "activity_Religious Articles-0.000%\n",
      "activity_Recycling-0.000%\n",
      "activity_Recycled Materials-0.000%\n",
      "activity_Music Discs & Tapes-0.000%\n"
     ]
    }
   ],
   "source": [
    "feature_labels = X_train.columns\n",
    "importance = regr.feature_importances_\n",
    "feature_indexes_by_importance = importance.argsort()[:len(importance)]\n",
    "for index in reversed(feature_indexes_by_importance):\n",
    "    print('{}-{:.3f}%'.format(feature_labels[index], (importance[index]*100.00)))"
   ]
  },
  {
   "cell_type": "code",
   "execution_count": 64,
   "metadata": {},
   "outputs": [
    {
     "data": {
      "text/plain": [
       "0.8943921123485812"
      ]
     },
     "execution_count": 64,
     "metadata": {},
     "output_type": "execute_result"
    }
   ],
   "source": [
    "# Linear Reegression\n",
    "regr = sklearn.linear_model.LinearRegression()\n",
    "regr.fit(X_train, y_train)\n",
    "regr.score(X_test, y_test)"
   ]
  },
  {
   "cell_type": "code",
   "execution_count": 112,
   "metadata": {},
   "outputs": [
    {
     "name": "stdout",
     "output_type": "stream",
     "text": [
      "{'fit_time': array([28.232126  , 29.0857501 , 27.01552415, 25.73513412]), 'score_time': array([0.17609119, 0.12294698, 0.06970787, 0.14268994]), 'test_score': array([0.89456962, 0.8940899 , 0.9318361 , 0.8495194 ]), 'train_score': array([0.93179944, 0.92939003, 0.91928096, 0.94763219])}\n"
     ]
    }
   ],
   "source": [
    "# Random Forest with Cross-Validation\n",
    "rf = RandomForestRegressor(n_estimators=100, max_depth=10, random_state=123)\n",
    "nb_rf_result = cross_validate(rf, X, y, cv=4)\n",
    "print(nb_rf_result)"
   ]
  }
 ],
 "metadata": {
  "kernelspec": {
   "display_name": "Python 3",
   "language": "python",
   "name": "python3"
  },
  "language_info": {
   "codemirror_mode": {
    "name": "ipython",
    "version": 3
   },
   "file_extension": ".py",
   "mimetype": "text/x-python",
   "name": "python",
   "nbconvert_exporter": "python",
   "pygments_lexer": "ipython3",
   "version": "3.6.8"
  }
 },
 "nbformat": 4,
 "nbformat_minor": 2
}
